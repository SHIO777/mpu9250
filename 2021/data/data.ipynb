{
 "cells": [
  {
   "cell_type": "code",
   "execution_count": 4,
   "source": [
    "import numpy as np\n",
    "import pandas as pd\n",
    "import matplotlib.pyplot as plt"
   ],
   "outputs": [],
   "metadata": {}
  },
  {
   "cell_type": "markdown",
   "source": [
    "# Gyro Calibration"
   ],
   "metadata": {}
  },
  {
   "cell_type": "code",
   "execution_count": null,
   "source": [
    "df_uncalib = pd.read_csv('2_uncalibrated.csv', delimiter=\",\", encoding=\"cp932\")\n",
    "df_uncalib.head()"
   ],
   "outputs": [],
   "metadata": {}
  },
  {
   "cell_type": "code",
   "execution_count": null,
   "source": [
    "df_calib = pd.read_csv('2_calibrated.csv', delimiter=\",\", encoding=\"cp932\")\n",
    "df_calib.head()"
   ],
   "outputs": [],
   "metadata": {}
  },
  {
   "cell_type": "code",
   "execution_count": null,
   "source": [
    "# df.plot.line(style=['r--', 'b.-', 'k:'])\n",
    "fig = plt.figure(figsize=(15,10))\n",
    "ax = fig.add_subplot(211, xlim=(0, 500), ylim=(-2.0, 2.0))\n",
    "ax2 = fig.add_subplot(212, xlim=(0, 500), ylim=(-2.0, 2.0))\n",
    "\n",
    "ax.plot(df_uncalib['x [dps]'], label=\"$\\omega_x, Uncalibrated$\")\n",
    "ax.plot(df_uncalib['y [dps]'], label=\"$\\omega_y, Uncalibrated$\")\n",
    "ax.plot(df_uncalib['z [dps]'], label=\"$\\omega_z, Uncalibrated$\")\n",
    "\n",
    "ax2.plot(df_calib['x [dps]'], label=\"$\\omega_x, Calibrated$\")\n",
    "ax2.plot(df_calib['y [dps]'], label=\"$\\omega_y, Calibrated$\")\n",
    "ax2.plot(df_calib['z [dps]'], label=\"$\\omega_z, Calibrated$\")\n",
    "\n",
    "ax.legend()\n",
    "ax2.legend()\n",
    "ax.set_title(\"Gyroscope Calibration Offset Correction\", fontsize=22)\n",
    "ax.set_xlabel(\"\", fontsize=18)\n",
    "ax.set_ylabel(\"$\\omega_{x, y, z}$ [$^{\\circ}/sec$]\", fontsize=18)\n",
    "ax2.set_xlabel(\"Sample\", fontsize=18)\n",
    "ax2.set_ylabel(\"$\\omega_{x, y, z}$ [$^{\\circ}/sec$]\", fontsize=18)\n",
    "\n",
    "\n",
    "\n",
    "# plt.savefig('gyro_uncalibrated.png', dpi=500)\n",
    "# plt.close('all')\n"
   ],
   "outputs": [],
   "metadata": {}
  },
  {
   "cell_type": "code",
   "execution_count": null,
   "source": [
    "# df.plot.line(style=['r--', 'b.-', 'k:'])\n",
    "\n",
    "plt.figure()\n",
    "df_calib.plot(figsize=(15, 5))\n",
    "# plt.savefig('gyro_uncalibrated.png', dpi=500)\n",
    "# plt.close('all')\n"
   ],
   "outputs": [],
   "metadata": {}
  },
  {
   "cell_type": "markdown",
   "source": [
    "# Gyro Integration"
   ],
   "metadata": {}
  },
  {
   "cell_type": "code",
   "execution_count": null,
   "source": [
    "# df = pd.read_csv('gyro_integ_20210912-130034.csv', delimiter=\",\", encoding=\"cp932\")\n",
    "df = pd.read_csv('gyro_integ_20210912-182539.csv', delimiter=\",\", encoding=\"cp932\")\n",
    "df.tail()\n"
   ],
   "outputs": [],
   "metadata": {}
  },
  {
   "cell_type": "code",
   "execution_count": null,
   "source": [
    "start = df[\"delta_t\"][0]\n",
    "end = df[\"delta_t\"][len(df)-1]\n",
    "freq = len(df) / (end - start)\n",
    "print(\"Sampling rate: {:.3f} [Hz]\".format(freq))"
   ],
   "outputs": [],
   "metadata": {}
  },
  {
   "cell_type": "code",
   "execution_count": null,
   "source": [
    "\"\"\"scipyを用いた台形積分\"\"\"\n",
    "from scipy.integrate import cumtrapz\n",
    "integ1_array = cumtrapz(df[\"z [dps]\"], x=df[\"delta_t\"])\n"
   ],
   "outputs": [],
   "metadata": {}
  },
  {
   "cell_type": "markdown",
   "source": [
    "$\\sum\\limits_{i=1}^n \\displaystyle\\frac{1}{2} (t_i - t_{i-1})(y_{i-1} + y_i)$\n"
   ],
   "metadata": {}
  },
  {
   "cell_type": "code",
   "execution_count": null,
   "source": [
    "\"\"\"台形積分の公式を用いた積分\"\"\"\n",
    "integ2 = []\n",
    "angle = 0\n",
    "\n",
    "for i in range(1, len(df)):\n",
    "    deg = df[\"z [dps]\"]\n",
    "    t = df[\"delta_t\"]\n",
    "\n",
    "    angle += (t[i]-t[i-1]) / 2 * (deg[i-1]+deg[i])\n",
    "    integ2.append(angle)"
   ],
   "outputs": [],
   "metadata": {}
  },
  {
   "cell_type": "code",
   "execution_count": null,
   "source": [
    "fig = plt.figure(figsize=(15,10))\n",
    "ax = fig.add_subplot(211, xlim=(0, 5))\n",
    "ax2 = fig.add_subplot(212, xlim=(0, 5))\n",
    "\n",
    "\n",
    "ax.plot(df[\"delta_t\"], df[\"z [dps]\"], label=\"$\\omega_z$\")\n",
    "ax2.plot(df[\"delta_t\"][1:], integ1_array, label=\"$\\\\theta_z$\")\n",
    "\n",
    "ax.legend()\n",
    "ax2.legend()\n",
    "ax.set_title(\"Gyroscope Integration over 180$\\degree$\", fontsize=22)\n",
    "ax.set_xlabel(\"\", fontsize=18)\n",
    "ax.set_ylabel(\"Angular Velocity, $\\omega_{z}$ [$\\degree/sec$]\", fontsize=18)\n",
    "ax2.set_xlabel(\"Time [s]\", fontsize=18)\n",
    "ax2.set_ylabel(\"Rotation, $\\\\theta$ $_{x, y, z}$ [$\\degree$]\", fontsize=18)"
   ],
   "outputs": [],
   "metadata": {}
  },
  {
   "cell_type": "code",
   "execution_count": null,
   "source": [
    "\"\"\"\n",
    "scipyとfor文の台形積分を比較\n",
    "完全に一致していることがわかる\n",
    "\"\"\"\n",
    "error = integ2 - integ1_array\n",
    "\n",
    "for i in range(len(error)):\n",
    "    if error[i] != 0.0:\n",
    "        print(i)"
   ],
   "outputs": [],
   "metadata": {}
  },
  {
   "cell_type": "markdown",
   "source": [
    "# データが正規分布であるか確かめる\n",
    "\n",
    "normal distribution \n",
    "(Gaussian distribution)"
   ],
   "metadata": {}
  },
  {
   "cell_type": "code",
   "execution_count": null,
   "source": [
    "# 動かしてない時の分布\n",
    "# https://qiita.com/osk_kamui/items/ce977c387bf395cc859a\n",
    "\n",
    "fig = plt.figure()\n",
    "ax = fig.add_subplot(111)\n",
    "ax.set_xlabel('angular velocity [deg/sec]')\n",
    "ax.set_ylabel('number of values')\n",
    "plt.hist(df_calib['z [dps]'], bins=20, color=\"b\")\n",
    "plt.savefig(\"gaussian_distribution.png\", dpi=500)\n"
   ],
   "outputs": [],
   "metadata": {}
  },
  {
   "cell_type": "code",
   "execution_count": null,
   "source": [
    "# 動かした時の分布\n",
    "plt.hist(df['z [dps]'], bins=20, color=\"b\")"
   ],
   "outputs": [],
   "metadata": {}
  },
  {
   "cell_type": "markdown",
   "source": [
    "# accelerometer calibration"
   ],
   "metadata": {}
  },
  {
   "cell_type": "code",
   "execution_count": null,
   "source": [
    "df_accel = pd.read_csv('1_accel_uncalib.csv', delimiter=\",\", encoding=\"cp932\")\n",
    "df_accel.head()\n"
   ],
   "outputs": [],
   "metadata": {}
  },
  {
   "cell_type": "code",
   "execution_count": null,
   "source": [
    "label_1 = [\"x [g]\", \"y [g]\", \"z [g]\"]\n",
    "label_2 = [\"x_calib\", \"y_calib\", \"z_calib\"]\n",
    "\n",
    "for i in range(3):\n",
    "    obj = df_accel[label_1[i]]\n",
    "\n",
    "    if label_1[i] == \"z [g]\":\n",
    "        # z軸の時は，重力分1.0 [g]を差し引く\n",
    "        offset = obj.mean() - 1.0\n",
    "    else:    \n",
    "        offset = obj.mean()\n",
    "\n",
    "    df_accel[label_2[i]] = obj - offset\n",
    "\n",
    "    # if i == 2:\n",
    "    #     df_accel[\"z_mean\"] = obj - obj.mean()"
   ],
   "outputs": [],
   "metadata": {}
  },
  {
   "cell_type": "code",
   "execution_count": null,
   "source": [
    "df_accel"
   ],
   "outputs": [],
   "metadata": {}
  },
  {
   "cell_type": "code",
   "execution_count": null,
   "source": [
    "fig = plt.figure(figsize=(15,10))\n",
    "# ax = fig.add_subplot(211, xlim=(0, 500), ylim=(-2.0, 2.0))\n",
    "ax = fig.add_subplot(211, xlim=(0, 500))\n",
    "\n",
    "ax.plot(df_accel['x [g]'], label=\"$\\\\alpha_x$, Uncalibrated\")\n",
    "ax.plot(df_accel['y [g]'], label=\"$\\\\alpha_y$, Uncalibrated\")\n",
    "ax.plot(df_accel['z [g]'], label=\"$\\\\alpha_z$, Uncalibrated\")\n",
    "ax.plot(df_accel['x_calib'], label=\"$\\\\alpha_x$, Calibrated\")\n",
    "ax.plot(df_accel['y_calib'], label=\"$\\\\alpha_y$, Calibrated\")\n",
    "ax.plot(df_accel['z_calib'], label=\"$\\\\alpha_z$, Calibrated\")\n",
    "\n",
    "ax.legend()\n",
    "ax.set_title(\"Accelerometer Calibration Correction\", fontsize=22)\n",
    "ax.set_xlabel(\"Sample\", fontsize=18)\n",
    "ax.set_ylabel(\"$\\\\alpha_{x, y, z}$ [$\\\\degree$/sec]\", fontsize=18)\n",
    "\n",
    "\n",
    "# plt.savefig('gyro_uncalibrated.png', dpi=500)\n",
    "# plt.close('all')\n"
   ],
   "outputs": [],
   "metadata": {}
  },
  {
   "cell_type": "code",
   "execution_count": null,
   "source": [
    "import numpy as np \n",
    "f = np.fft.fft(df_accel[\"z_calib\"])\n",
    "fig = plt.figure()\n",
    "ax = fig.add_subplot(111)\n",
    "# ax.set_xlim(0, 10)\n",
    "plt.plot(f.real)\n",
    "# plt.plot(f.imag)"
   ],
   "outputs": [],
   "metadata": {}
  },
  {
   "cell_type": "code",
   "execution_count": null,
   "source": [
    "# 平均を自分で算出\n",
    "a = 0.0\n",
    "for i in range(len(df_accel)):\n",
    "    a += df_accel['x [g]'][i]\n",
    "\n",
    "mean = a / len(df_accel)\n",
    "print(mean)\n",
    "print(mean - df_accel['x [g]'].mean())"
   ],
   "outputs": [],
   "metadata": {}
  },
  {
   "cell_type": "markdown",
   "source": [
    "# Accelerometer Integration"
   ],
   "metadata": {}
  },
  {
   "cell_type": "code",
   "execution_count": 39,
   "source": [
    "import pandas as pd\n",
    "import matplotlib.pyplot as plt\n",
    "from scipy.integrate import cumtrapz\n",
    "from scipy import signal\n",
    "import numpy as np\n",
    "\n",
    "g = 9.80665"
   ],
   "outputs": [],
   "metadata": {}
  },
  {
   "cell_type": "code",
   "execution_count": 34,
   "source": [
    "df = pd.read_csv('accel_integ_1.csv', delimiter=\",\", encoding=\"cp932\")\n",
    "df.head()"
   ],
   "outputs": [
    {
     "output_type": "execute_result",
     "data": {
      "text/html": [
       "<div>\n",
       "<style scoped>\n",
       "    .dataframe tbody tr th:only-of-type {\n",
       "        vertical-align: middle;\n",
       "    }\n",
       "\n",
       "    .dataframe tbody tr th {\n",
       "        vertical-align: top;\n",
       "    }\n",
       "\n",
       "    .dataframe thead th {\n",
       "        text-align: right;\n",
       "    }\n",
       "</style>\n",
       "<table border=\"1\" class=\"dataframe\">\n",
       "  <thead>\n",
       "    <tr style=\"text-align: right;\">\n",
       "      <th></th>\n",
       "      <th>delta_t</th>\n",
       "      <th>x [g]</th>\n",
       "      <th>y [g]</th>\n",
       "      <th>z [g]</th>\n",
       "      <th>x [dps]</th>\n",
       "      <th>y [dps]</th>\n",
       "      <th>z [dps]</th>\n",
       "      <th>x [uT]</th>\n",
       "      <th>y [uT]</th>\n",
       "      <th>z [uT]</th>\n",
       "    </tr>\n",
       "  </thead>\n",
       "  <tbody>\n",
       "    <tr>\n",
       "      <th>0</th>\n",
       "      <td>0.021316</td>\n",
       "      <td>-0.000</td>\n",
       "      <td>0.003</td>\n",
       "      <td>1.013</td>\n",
       "      <td>-0.201</td>\n",
       "      <td>-0.000</td>\n",
       "      <td>0.000</td>\n",
       "      <td>-14.877</td>\n",
       "      <td>6.866</td>\n",
       "      <td>14.590</td>\n",
       "    </tr>\n",
       "    <tr>\n",
       "      <th>1</th>\n",
       "      <td>0.031440</td>\n",
       "      <td>-0.001</td>\n",
       "      <td>-0.001</td>\n",
       "      <td>1.014</td>\n",
       "      <td>0.142</td>\n",
       "      <td>0.053</td>\n",
       "      <td>-0.236</td>\n",
       "      <td>-15.736</td>\n",
       "      <td>6.580</td>\n",
       "      <td>16.593</td>\n",
       "    </tr>\n",
       "    <tr>\n",
       "      <th>2</th>\n",
       "      <td>0.041221</td>\n",
       "      <td>0.005</td>\n",
       "      <td>0.003</td>\n",
       "      <td>1.020</td>\n",
       "      <td>-0.049</td>\n",
       "      <td>-0.092</td>\n",
       "      <td>-0.160</td>\n",
       "      <td>-14.305</td>\n",
       "      <td>5.722</td>\n",
       "      <td>14.590</td>\n",
       "    </tr>\n",
       "    <tr>\n",
       "      <th>3</th>\n",
       "      <td>0.050994</td>\n",
       "      <td>0.000</td>\n",
       "      <td>0.003</td>\n",
       "      <td>1.012</td>\n",
       "      <td>0.111</td>\n",
       "      <td>-0.122</td>\n",
       "      <td>0.076</td>\n",
       "      <td>-13.447</td>\n",
       "      <td>9.441</td>\n",
       "      <td>12.587</td>\n",
       "    </tr>\n",
       "    <tr>\n",
       "      <th>4</th>\n",
       "      <td>0.060772</td>\n",
       "      <td>0.000</td>\n",
       "      <td>-0.001</td>\n",
       "      <td>1.009</td>\n",
       "      <td>-0.034</td>\n",
       "      <td>0.114</td>\n",
       "      <td>0.069</td>\n",
       "      <td>-15.736</td>\n",
       "      <td>8.869</td>\n",
       "      <td>17.737</td>\n",
       "    </tr>\n",
       "  </tbody>\n",
       "</table>\n",
       "</div>"
      ],
      "text/plain": [
       "    delta_t  x [g]  y [g]  z [g]  x [dps]  y [dps]  z [dps]  x [uT]  y [uT]  \\\n",
       "0  0.021316 -0.000  0.003  1.013   -0.201   -0.000    0.000 -14.877   6.866   \n",
       "1  0.031440 -0.001 -0.001  1.014    0.142    0.053   -0.236 -15.736   6.580   \n",
       "2  0.041221  0.005  0.003  1.020   -0.049   -0.092   -0.160 -14.305   5.722   \n",
       "3  0.050994  0.000  0.003  1.012    0.111   -0.122    0.076 -13.447   9.441   \n",
       "4  0.060772  0.000 -0.001  1.009   -0.034    0.114    0.069 -15.736   8.869   \n",
       "\n",
       "   z [uT]  \n",
       "0  14.590  \n",
       "1  16.593  \n",
       "2  14.590  \n",
       "3  12.587  \n",
       "4  17.737  "
      ]
     },
     "metadata": {},
     "execution_count": 34
    }
   ],
   "metadata": {}
  },
  {
   "cell_type": "code",
   "execution_count": 35,
   "source": [
    "# サンプリング時間を求める\n",
    "dt = df['delta_t'][len(df)-1] - df['delta_t'][0]\n",
    "fs_approx = len(df) / dt\n",
    "\n"
   ],
   "outputs": [],
   "metadata": {}
  },
  {
   "cell_type": "code",
   "execution_count": 53,
   "source": [
    "\"\"\"離散化してない\"\"\"\n",
    "# b_filt, a_filt = signal.butter(4, 5, \"low\", fs=fs_approx)\n",
    "# accel_array = signal.filtfilt(b_filt, a_filt)\n",
    "# accel_array = np.multiply(accel_array, g)"
   ],
   "outputs": [
    {
     "output_type": "execute_result",
     "data": {
      "text/plain": [
       "'離散化なし'"
      ]
     },
     "metadata": {},
     "execution_count": 53
    }
   ],
   "metadata": {}
  },
  {
   "cell_type": "code",
   "execution_count": 45,
   "source": [
    "df[\"y_accel\"] = df[\"y [g]\"] * g\n",
    "print(\"Sample Rate: {:2.0f} Hz\".format(len(df)/dt))\n",
    "veloc_array = np.append(0.0, cumtrapz(df[\"y_accel\"], x=df[\"delta_t\"]))\n",
    "posit_approx = np.trapz(veloc_array, x=df[\"delta_t\"])\n",
    "\n",
    "posit_array = np.append(0.0, cumtrapz(veloc_array, x=df[\"delta_t\"]))\n",
    "print(\"Displace in y-dir: {:2.2f} m\".format(posit_approx))\n"
   ],
   "outputs": [
    {
     "output_type": "stream",
     "name": "stdout",
     "text": [
      "Sample Rate: 53 Hz\n",
      "Displace in y-dir: -0.22 m\n"
     ]
    }
   ],
   "metadata": {}
  },
  {
   "cell_type": "code",
   "execution_count": null,
   "source": [],
   "outputs": [],
   "metadata": {}
  },
  {
   "cell_type": "code",
   "execution_count": 50,
   "source": [
    "# plt.ion()\n",
    "fig, axs = plt.subplots(3, 1, figsize=(12,9))\n",
    "t_array = df[\"delta_t\"]\n",
    "accel_array = df[\"y_accel\"]\n",
    "axs[0].plot(t_array, accel_array, label=\"$\\\\alpha_y$\", color=plt.cm.Set1(0), linewidth=2.5)\n",
    "axs[1].plot(t_array, veloc_array, label=\"$v_y$\", color=plt.cm.Set1(1), linewidth=2.5)\n",
    "axs[2].plot(t_array, posit_array, label=\"$x_y$\", color=plt.cm.Set1(2), linewidth=2.5)\n",
    "\n",
    "[axs[ii].legend() for ii in range(0, len(axs))]\n",
    "axs[0].set_ylabel(\"Acceleration [$\\cdot$s$^{-2}$\", fontsize=16)\n",
    "axs[1].set_ylabel(\"Velocity [m$\\cdot$s$^{-1}$\", fontsize=16)\n",
    "axs[2].set_ylabel(\"Displacement [m]\", fontsize=16)\n",
    "axs[2].set_xlabel(\"Time [s]\", fontsize=18)\n",
    "axs[0].set_title(\"MPU9250 Accelerometer Integration\", fontsize=18)\n",
    "# plt.pause(0.01)"
   ],
   "outputs": [
    {
     "output_type": "execute_result",
     "data": {
      "text/plain": [
       "Text(0.5, 1.0, 'MPU9250 Accelerometer Integration')"
      ]
     },
     "metadata": {},
     "execution_count": 50
    },
    {
     "output_type": "display_data",
     "data": {
      "image/png": "[encoded data removed]",
      "text/plain": [
       "<Figure size 864x648 with 3 Axes>"
      ]
     },
     "metadata": {
      "needs_background": "light"
     }
    }
   ],
   "metadata": {}
  },
  {
   "cell_type": "code",
   "execution_count": 37,
   "source": [
    "plt.plot(df[\"delta_t\"], df[\"y [g]\"])"
   ],
   "outputs": [
    {
     "output_type": "execute_result",
     "data": {
      "text/plain": [
       "[<matplotlib.lines.Line2D at 0x7f87675424f0>]"
      ]
     },
     "metadata": {},
     "execution_count": 37
    },
    {
     "output_type": "display_data",
     "data": {
      "image/png": "[encoded data removed]",
      "text/plain": [
       "<Figure size 432x288 with 1 Axes>"
      ]
     },
     "metadata": {
      "needs_background": "light"
     }
    }
   ],
   "metadata": {}
  },
  {
   "cell_type": "code",
   "execution_count": 42,
   "source": [
    "a = np.append(0.0, [1, 2, 3])\n",
    "print(a)"
   ],
   "outputs": [
    {
     "output_type": "stream",
     "name": "stdout",
     "text": [
      "[0. 1. 2. 3.]\n"
     ]
    }
   ],
   "metadata": {}
  },
  {
   "cell_type": "code",
   "execution_count": null,
   "source": [],
   "outputs": [],
   "metadata": {}
  }
 ],
 "metadata": {
  "orig_nbformat": 4,
  "language_info": {
   "name": "python",
   "version": "3.8.3",
   "mimetype": "text/x-python",
   "codemirror_mode": {
    "name": "ipython",
    "version": 3
   },
   "pygments_lexer": "ipython3",
   "nbconvert_exporter": "python",
   "file_extension": ".py"
  },
  "kernelspec": {
   "name": "python3",
   "display_name": "Python 3.8.3 64-bit ('base': conda)"
  },
  "interpreter": {
   "hash": "7eec7d27de02dc586c8e3a42ed27cb7e9a1d9eca038a1cd3da651a794ebcfab4"
  }
 },
 "nbformat": 4,
 "nbformat_minor": 2
}